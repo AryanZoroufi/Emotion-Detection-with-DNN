{
  "nbformat": 4,
  "nbformat_minor": 0,
  "metadata": {
    "colab": {
      "name": "Pickle2CSV.ipynb",
      "provenance": [],
      "collapsed_sections": []
    },
    "kernelspec": {
      "name": "python2",
      "display_name": "Python 2"
    }
  },
  "cells": [
    {
      "cell_type": "code",
      "metadata": {
        "id": "rCL7UB--T9o-",
        "colab_type": "code",
        "colab": {}
      },
      "source": [
        "import cPickle\n",
        "import numpy as np"
      ],
      "execution_count": null,
      "outputs": []
    },
    {
      "cell_type": "code",
      "metadata": {
        "id": "JphMwtOIVOmk",
        "colab_type": "code",
        "colab": {}
      },
      "source": [
        "from google.colab import drive\n",
        "drive.mount('/content/drive')"
      ],
      "execution_count": null,
      "outputs": []
    },
    {
      "cell_type": "code",
      "metadata": {
        "id": "ZyqzhqTPUCEr",
        "colab_type": "code",
        "colab": {}
      },
      "source": [
        "for i in range (1,10):\n",
        "    x = cPickle.load(open('/content/drive/My Drive/BCI Emotion detection/DEAP/Processed_data/s0'+str(i)+'.dat','rb'))\n",
        "    np.savetxt(\"/content/drive/My Drive/BCI Emotion detection/DEAP/CSV_Data/S\"+str(i)+\"_data.csv\", x['data'].reshape(x['data'].shape[0],-1), delimiter=\",\")\n",
        "    np.savetxt(\"/content/drive/My Drive/BCI Emotion detection/DEAP/CSV_Data/S\"+str(i)+\"_labels.csv\", x['labels'], delimiter=\",\")\n",
        "for i in range (10,33):\n",
        "    x = cPickle.load(open('/content/drive/My Drive/BCI Emotion detection/DEAP/Processed_data/s'+str(i)+'.dat','rb'))\n",
        "    np.savetxt(\"/content/drive/My Drive/BCI Emotion detection/DEAP/CSV_Data/S\"+str(i)+\"_data.csv\", x['data'].reshape(x['data'].shape[0],-1), delimiter=\",\")\n",
        "    np.savetxt(\"/content/drive/My Drive/BCI Emotion detection/DEAP/CSV_Data/S\"+str(i)+\"_labels.csv\", x['labels'], delimiter=\",\")"
      ],
      "execution_count": null,
      "outputs": []
    },
    {
      "cell_type": "markdown",
      "metadata": {
        "id": "2NgxuPuzbg_r",
        "colab_type": "text"
      },
      "source": [
        "Reshape the CSV file to original shape"
      ]
    },
    {
      "cell_type": "code",
      "metadata": {
        "id": "nVvbnpfTZkQG",
        "colab_type": "code",
        "colab": {}
      },
      "source": [
        "# x2 = x1.reshape(40,40,x1.shape[1]/40)"
      ],
      "execution_count": null,
      "outputs": []
    }
  ]
}